{
  "nbformat": 4,
  "nbformat_minor": 0,
  "metadata": {
    "colab": {
      "name": "MNIST_DATA_DEEP_LEARNING.ipynb",
      "provenance": [],
      "collapsed_sections": []
    },
    "kernelspec": {
      "name": "python3",
      "display_name": "Python 3"
    },
    "language_info": {
      "name": "python"
    },
    "accelerator": "GPU"
  },
  "cells": [
    {
      "cell_type": "code",
      "execution_count": 39,
      "metadata": {
        "id": "bxw3dZSkU4IC"
      },
      "outputs": [],
      "source": [
        "import numpy as np\n",
        "import pandas as pd\n",
        "import matplotlib.pyplot as plt\n",
        "from sklearn.preprocessing import MinMaxScaler\n",
        "from keras.datasets import mnist\n",
        "from keras.models import Sequential\n",
        "from keras.layers import Conv2D\n",
        "from keras.layers import MaxPooling2D\n",
        "from keras.layers import Flatten\n",
        "from keras.layers import Dense\n",
        "from keras.layers import Dropout\n",
        "from tensorflow.keras.utils import to_categorical\n",
        "from tensorflow.keras.optimizers import SGD\n",
        "from keras import backend as k\n",
        "from keras.callbacks import EarlyStopping"
      ]
    },
    {
      "cell_type": "code",
      "source": [
        "# Split Data to Train and Test Sets\n",
        "(trainx,trainy),(testx,testy)=mnist.load_data();"
      ],
      "metadata": {
        "id": "BBWeSzLSVK7L"
      },
      "execution_count": 40,
      "outputs": []
    },
    {
      "cell_type": "code",
      "source": [
        "for i in range(10):\n",
        "  plt.imshow(trainx[i+1,:,:],cmap='gray',vmin=0,vmax=255)\n",
        "  plt.show()"
      ],
      "metadata": {
        "id": "Q8sZSKjudSC5"
      },
      "execution_count": null,
      "outputs": []
    },
    {
      "cell_type": "code",
      "source": [
        "# Train and Test Data Normalization\n",
        "trainx=(trainx-trainx.min())/(trainx.max()-trainx.min())\n",
        "testx=(testx-testx.min())/(testx.max()-testx.min())"
      ],
      "metadata": {
        "id": "o7yzL7BAWAa9"
      },
      "execution_count": 42,
      "outputs": []
    },
    {
      "cell_type": "code",
      "source": [
        "# Trian and Test Data To Categrical\n",
        "trainy=to_categorical(trainy)\n",
        "testy=to_categorical(testy)"
      ],
      "metadata": {
        "id": "ms6fWE59WX7L"
      },
      "execution_count": 43,
      "outputs": []
    },
    {
      "cell_type": "code",
      "source": [
        "# Identify the first or last channel of the Images\n",
        "if k.image_data_format=='channel first':\n",
        "  trainx=trainx.reshape(trainx.shape[0],1,trainx.shape[1],trainx.shape[2])\n",
        "  testx=testx.reshape(testx.shape[0],1,testx.shape[1],testx.shape[2])\n",
        "  input_shape=(1,trainx.shape[1],trainx.shape[2])\n",
        "else:\n",
        "  trainx=trainx.reshape(trainx.shape[0],trainx.shape[1],trainx.shape[2],1)\n",
        "  testx=testx.reshape(testx.shape[0],testx.shape[1],testx.shape[2],1)\n",
        "  input_shape=(trainx.shape[1],trainx.shape[2],1)\n"
      ],
      "metadata": {
        "id": "pVO_RSa_WffH"
      },
      "execution_count": 44,
      "outputs": []
    },
    {
      "cell_type": "code",
      "source": [
        "# Create a Model\n",
        "model=Sequential()\n",
        "model.add(Conv2D(32,(3,3),input_shape=input_shape,activation='relu'))\n",
        "model.add(MaxPooling2D(2,2))\n",
        "model.add(Conv2D(64,(3,3),activation='relu'))\n",
        "model.add(MaxPooling2D(2,2))\n",
        "model.add(Flatten())\n",
        "model.add(Dropout(0.5))\n",
        "model.add(Dense(10,activation='softmax'))"
      ],
      "metadata": {
        "id": "ZVpbTT7RYEGr"
      },
      "execution_count": 45,
      "outputs": []
    },
    {
      "cell_type": "code",
      "source": [
        "# Apply EarlyStopping To Prevent Overfitting\n",
        "es=EarlyStopping(monitor='val_loss',verbose=1,mode='auto',patience=5)\n",
        "model.compile(optimizer='adam',loss='categorical_crossentropy',metrics=['accuracy'])"
      ],
      "metadata": {
        "id": "OIkEZn3wYOE6"
      },
      "execution_count": 46,
      "outputs": []
    },
    {
      "cell_type": "code",
      "source": [
        "# Train The Model\n",
        "h=model.fit(trainx,trainy,epochs=10,batch_size=64,validation_split=0.1,callbacks=[es])"
      ],
      "metadata": {
        "colab": {
          "base_uri": "https://localhost:8080/"
        },
        "id": "7g7fUdDZiEpg",
        "outputId": "4b4392ee-b414-493c-d2d2-58f217473355"
      },
      "execution_count": 47,
      "outputs": [
        {
          "output_type": "stream",
          "name": "stdout",
          "text": [
            "Epoch 1/10\n",
            "844/844 [==============================] - 7s 8ms/step - loss: 0.2838 - accuracy: 0.9145 - val_loss: 0.0666 - val_accuracy: 0.9813\n",
            "Epoch 2/10\n",
            "844/844 [==============================] - 6s 7ms/step - loss: 0.0956 - accuracy: 0.9708 - val_loss: 0.0495 - val_accuracy: 0.9855\n",
            "Epoch 3/10\n",
            "844/844 [==============================] - 6s 8ms/step - loss: 0.0698 - accuracy: 0.9780 - val_loss: 0.0420 - val_accuracy: 0.9882\n",
            "Epoch 4/10\n",
            "844/844 [==============================] - 6s 8ms/step - loss: 0.0610 - accuracy: 0.9814 - val_loss: 0.0361 - val_accuracy: 0.9893\n",
            "Epoch 5/10\n",
            "844/844 [==============================] - 6s 8ms/step - loss: 0.0542 - accuracy: 0.9830 - val_loss: 0.0344 - val_accuracy: 0.9907\n",
            "Epoch 6/10\n",
            "844/844 [==============================] - 6s 7ms/step - loss: 0.0485 - accuracy: 0.9849 - val_loss: 0.0360 - val_accuracy: 0.9887\n",
            "Epoch 7/10\n",
            "844/844 [==============================] - 6s 8ms/step - loss: 0.0435 - accuracy: 0.9865 - val_loss: 0.0318 - val_accuracy: 0.9915\n",
            "Epoch 8/10\n",
            "844/844 [==============================] - 6s 7ms/step - loss: 0.0401 - accuracy: 0.9871 - val_loss: 0.0295 - val_accuracy: 0.9918\n",
            "Epoch 9/10\n",
            "844/844 [==============================] - 6s 8ms/step - loss: 0.0408 - accuracy: 0.9874 - val_loss: 0.0282 - val_accuracy: 0.9913\n",
            "Epoch 10/10\n",
            "844/844 [==============================] - 6s 8ms/step - loss: 0.0358 - accuracy: 0.9887 - val_loss: 0.0294 - val_accuracy: 0.9917\n"
          ]
        }
      ]
    },
    {
      "cell_type": "code",
      "source": [
        "# Plots\n",
        "plt.plot(h.history['loss'])\n",
        "plt.plot(h.history['val_loss'])\n",
        "plt.title('Train and Validation loss comparison',color='green')\n",
        "plt.xlabel('Number of epochs')\n",
        "plt.ylabel('Train and Validation Loss')\n",
        "plt.legend(['Train','Val'])\n",
        "plt.grid()\n",
        "plt.show()\n"
      ],
      "metadata": {
        "colab": {
          "base_uri": "https://localhost:8080/",
          "height": 295
        },
        "id": "hVfmoP4-Z-nl",
        "outputId": "6411648c-9426-4f08-8535-2cf9f04e855e"
      },
      "execution_count": 48,
      "outputs": [
        {
          "output_type": "display_data",
          "data": {
            "text/plain": [
              "<Figure size 432x288 with 1 Axes>"
            ],
            "image/png": "[encoded data removed]"
          },
          "metadata": {
            "needs_background": "light"
          }
        }
      ]
    },
    {
      "cell_type": "code",
      "source": [
        "plt.plot(h.history['accuracy'])\n",
        "plt.plot(h.history['val_accuracy'])\n",
        "plt.title('Train and Validation accuracy comparison',color='green')\n",
        "plt.xlabel('Number of epochs')\n",
        "plt.ylabel('Train and Validation Accuracy')\n",
        "plt.legend(['Train','Val'])\n",
        "plt.grid()\n",
        "plt.show()\n"
      ],
      "metadata": {
        "colab": {
          "base_uri": "https://localhost:8080/",
          "height": 295
        },
        "id": "MilxOBh_bCY7",
        "outputId": "49786f3c-56dd-431f-9b9b-9ddf5678c979"
      },
      "execution_count": 49,
      "outputs": [
        {
          "output_type": "display_data",
          "data": {
            "text/plain": [
              "<Figure size 432x288 with 1 Axes>"
            ],
            "image/png": "[encoded data removed]"
          },
          "metadata": {
            "needs_background": "light"
          }
        }
      ]
    },
    {
      "cell_type": "code",
      "source": [
        "# Model Accuracy\n",
        "score=model.evaluate(testx,testy,batch_size=64)*100\n",
        "print(f\"score : {score[1]} , loss : {score[0]}\")"
      ],
      "metadata": {
        "colab": {
          "base_uri": "https://localhost:8080/"
        },
        "id": "NQijG9IrbODt",
        "outputId": "d5d8e649-e27b-4c07-aa56-4bf5919073d2"
      },
      "execution_count": 50,
      "outputs": [
        {
          "output_type": "stream",
          "name": "stdout",
          "text": [
            "157/157 [==============================] - 1s 4ms/step - loss: 0.0236 - accuracy: 0.9915\n",
            "score : 0.9915000200271606 , loss : 0.0235909316688776\n"
          ]
        }
      ]
    },
    {
      "cell_type": "code",
      "source": [
        "model.predict(testx,batch_size=64)"
      ],
      "metadata": {
        "id": "y31AH1fmbY6z"
      },
      "execution_count": null,
      "outputs": []
    },
    {
      "cell_type": "code",
      "source": [
        "Pred_classes=(model.predict(testx>0.5)).astype('int32')"
      ],
      "metadata": {
        "id": "NbTTueuHi8e7"
      },
      "execution_count": 22,
      "outputs": []
    },
    {
      "cell_type": "code",
      "source": [
        ""
      ],
      "metadata": {
        "id": "UZi_2g5FLEVu"
      },
      "execution_count": null,
      "outputs": []
    }
  ]
}